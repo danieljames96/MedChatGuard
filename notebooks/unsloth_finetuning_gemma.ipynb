{
 "cells": [
  {
   "cell_type": "markdown",
   "id": "IZVqfzF0SwRG",
   "metadata": {
    "id": "IZVqfzF0SwRG"
   },
   "source": [
    "# 🧠 MedChatGuard - Unsloth Fine-Tuning in Colab\n",
    "Fine-tune a long-context LLM (`unsloth/gemma-3-4b-it-unsloth-bnb-4bit`) on synthetic EHR data using QLoRA.\n"
   ]
  },
  {
   "cell_type": "markdown",
   "id": "3c198cd8",
   "metadata": {},
   "source": [
    "### Install Dependencies"
   ]
  },
  {
   "cell_type": "code",
   "execution_count": null,
   "id": "nUpo3n8KSwRI",
   "metadata": {
    "executionInfo": {
     "elapsed": 7426,
     "status": "ok",
     "timestamp": 1744271633588,
     "user": {
      "displayName": "Daniel James",
      "userId": "03259519269035317514"
     },
     "user_tz": -330
    },
    "id": "nUpo3n8KSwRI"
   },
   "outputs": [],
   "source": [
    "!pip install -q unsloth datasets trl accelerate peft transformers bitsandbytes huggingface_hub"
   ]
  },
  {
   "cell_type": "markdown",
   "id": "1dddea94",
   "metadata": {},
   "source": [
    "### Load SQuAD-style dataset from Drive"
   ]
  },
  {
   "cell_type": "code",
   "execution_count": null,
   "id": "vdatidZuSwRI",
   "metadata": {
    "colab": {
     "base_uri": "https://localhost:8080/",
     "height": 321
    },
    "executionInfo": {
     "elapsed": 4432,
     "status": "error",
     "timestamp": 1744271641071,
     "user": {
      "displayName": "Daniel James",
      "userId": "03259519269035317514"
     },
     "user_tz": -330
    },
    "id": "vdatidZuSwRI",
    "outputId": "2781a6ba-3514-4a8f-d203-e138e2c08256"
   },
   "outputs": [],
   "source": [
    "# ✅ Mount Google Drive to access dataset and save model\n",
    "from google.colab import drive\n",
    "drive.mount('/content/drive', force_remount=True)\n",
    "\n",
    "DATA_PATH = \"/content/drive/MyDrive/Colab Notebooks/FineTuning/preprocessed\""
   ]
  },
  {
   "cell_type": "code",
   "execution_count": null,
   "id": "e1f1078d",
   "metadata": {},
   "outputs": [],
   "source": [
    "# ✅ Load dataset from Google Drive\n",
    "from datasets import load_from_disk\n",
    "\n",
    "dataset = load_from_disk(DATA_PATH)"
   ]
  },
  {
   "cell_type": "markdown",
   "id": "dcb0d4c4",
   "metadata": {},
   "source": [
    "### Load model and tokenizer"
   ]
  },
  {
   "cell_type": "code",
   "execution_count": null,
   "id": "_T3-RxoKSwRJ",
   "metadata": {
    "colab": {
     "base_uri": "https://localhost:8080/"
    },
    "executionInfo": {
     "elapsed": 104793,
     "status": "ok",
     "timestamp": 1744271748421,
     "user": {
      "displayName": "Daniel James",
      "userId": "03259519269035317514"
     },
     "user_tz": -330
    },
    "id": "_T3-RxoKSwRJ",
    "outputId": "8be519b8-4437-4204-cb13-76514c1cd0b2"
   },
   "outputs": [
    {
     "name": "stdout",
     "output_type": "stream",
     "text": [
      "🦥 Unsloth: Will patch your computer to enable 2x faster free finetuning.\n",
      "🦥 Unsloth Zoo will now patch everything to make training faster!\n",
      "==((====))==  Unsloth 2025.3.19: Fast Gemma3 patching. Transformers: 4.50.3.\n",
      "   \\\\   /|    Tesla T4. Num GPUs = 1. Max memory: 14.741 GB. Platform: Linux.\n",
      "O^O/ \\_/ \\    Torch: 2.6.0+cu124. CUDA: 7.5. CUDA Toolkit: 12.4. Triton: 3.2.0\n",
      "\\        /    Bfloat16 = FALSE. FA [Xformers = 0.0.29.post3. FA2 = False]\n",
      " \"-____-\"     Free license: http://github.com/unslothai/unsloth\n",
      "Unsloth: Fast downloading is enabled - ignore downloading bars which are red colored!\n",
      "Unsloth: Using float16 precision for gemma3 won't work! Using float32.\n"
     ]
    },
    {
     "name": "stderr",
     "output_type": "stream",
     "text": [
      "Using a slow image processor as `use_fast` is unset and a slow processor was saved with this model. `use_fast=True` will be the default behavior in v4.52, even if the model was saved with a slow processor. This will result in minor differences in outputs. You'll still be able to use a slow processor with `use_fast=False`.\n"
     ]
    },
    {
     "name": "stdout",
     "output_type": "stream",
     "text": [
      "Unsloth: Making `base_model.model.vision_tower.vision_model` require gradients\n"
     ]
    }
   ],
   "source": [
    "from unsloth import FastLanguageModel\n",
    "import torch\n",
    "\n",
    "model, tokenizer = FastLanguageModel.from_pretrained(\n",
    "    model_name = \"unsloth/gemma-3-4b-it-unsloth-bnb-4bit\",\n",
    "    max_seq_length = 2048,\n",
    "    dtype = None,\n",
    "    load_in_4bit = True,\n",
    ")\n",
    "\n",
    "tokenizer.padding_side = \"right\"\n",
    "tokenizer.pad_token = tokenizer.eos_token\n",
    "\n",
    "model = FastLanguageModel.get_peft_model(\n",
    "    model,\n",
    "    r = 64,\n",
    "    target_modules = [\"q_proj\", \"v_proj\"],\n",
    "    lora_alpha = 16,\n",
    "    lora_dropout = 0.05,\n",
    "    bias = \"none\",\n",
    "    use_gradient_checkpointing = True,\n",
    ")"
   ]
  },
  {
   "cell_type": "markdown",
   "id": "6f07f22e",
   "metadata": {},
   "source": [
    "### Fine-tune"
   ]
  },
  {
   "cell_type": "code",
   "execution_count": null,
   "id": "Mb4kHu0GSwRJ",
   "metadata": {
    "colab": {
     "base_uri": "https://localhost:8080/",
     "height": 343
    },
    "executionInfo": {
     "elapsed": 1178808,
     "status": "ok",
     "timestamp": 1744272963500,
     "user": {
      "displayName": "Daniel James",
      "userId": "03259519269035317514"
     },
     "user_tz": -330
    },
    "id": "Mb4kHu0GSwRJ",
    "outputId": "f4e226a2-57a1-4fbd-b067-6267b5bd0f73"
   },
   "outputs": [
    {
     "name": "stdout",
     "output_type": "stream",
     "text": [
      "Unsloth: Switching to float32 training since model cannot work with float16\n"
     ]
    },
    {
     "name": "stderr",
     "output_type": "stream",
     "text": [
      "==((====))==  Unsloth - 2x faster free finetuning | Num GPUs used = 1\n",
      "   \\\\   /|    Num examples = 110 | Num Epochs = 3 | Total steps = 39\n",
      "O^O/ \\_/ \\    Batch size per device = 2 | Gradient accumulation steps = 4\n",
      "\\        /    Data Parallel GPUs = 1 | Total batch size (2 x 4 x 1) = 8\n",
      " \"-____-\"     Trainable parameters = 25,788,416/4,000,000,000 (0.64% trained)\n",
      "`use_cache=True` is incompatible with gradient checkpointing. Setting `use_cache=False`.\n"
     ]
    },
    {
     "name": "stdout",
     "output_type": "stream",
     "text": [
      "Unsloth: Will smartly offload gradients to save VRAM!\n"
     ]
    },
    {
     "data": {
      "text/html": [
       "\n",
       "    <div>\n",
       "      \n",
       "      <progress value='39' max='39' style='width:300px; height:20px; vertical-align: middle;'></progress>\n",
       "      [39/39 18:06, Epoch 2/3]\n",
       "    </div>\n",
       "    <table border=\"1\" class=\"dataframe\">\n",
       "  <thead>\n",
       " <tr style=\"text-align: left;\">\n",
       "      <th>Step</th>\n",
       "      <th>Training Loss</th>\n",
       "    </tr>\n",
       "  </thead>\n",
       "  <tbody>\n",
       "    <tr>\n",
       "      <td>10</td>\n",
       "      <td>31.401500</td>\n",
       "    </tr>\n",
       "    <tr>\n",
       "      <td>20</td>\n",
       "      <td>0.000000</td>\n",
       "    </tr>\n",
       "    <tr>\n",
       "      <td>30</td>\n",
       "      <td>0.000000</td>\n",
       "    </tr>\n",
       "  </tbody>\n",
       "</table><p>"
      ],
      "text/plain": [
       "<IPython.core.display.HTML object>"
      ]
     },
     "metadata": {},
     "output_type": "display_data"
    },
    {
     "data": {
      "text/plain": [
       "TrainOutput(global_step=39, training_loss=8.051665477263622, metrics={'train_runtime': 1172.9419, 'train_samples_per_second': 0.281, 'train_steps_per_second': 0.033, 'total_flos': 1.435197826400256e+16, 'train_loss': 8.051665477263622})"
      ]
     },
     "execution_count": 8,
     "metadata": {},
     "output_type": "execute_result"
    }
   ],
   "source": [
    "from transformers import TrainingArguments\n",
    "from trl import SFTTrainer\n",
    "import os\n",
    "\n",
    "# os.environ[\"FLASH_ATTENTION_DISABLE\"] = \"1\"\n",
    "\n",
    "args = TrainingArguments(\n",
    "    output_dir = \"/content/drive/MyDrive/Colab Notebooks/FineTuning/finetuned_model\",\n",
    "    per_device_train_batch_size = 2,\n",
    "    gradient_accumulation_steps = 4,\n",
    "    num_train_epochs = 3,\n",
    "    learning_rate = 2e-4,\n",
    "    save_strategy = \"epoch\",\n",
    "    logging_steps = 10,\n",
    "    bf16 = False,\n",
    "    fp16 = False,\n",
    "    report_to = \"none\",\n",
    ")\n",
    "\n",
    "trainer = SFTTrainer(\n",
    "    model = model,\n",
    "    tokenizer = tokenizer,\n",
    "    train_dataset = dataset,\n",
    "    # formatting_func = formatting_func,\n",
    "    args = args,\n",
    "    max_seq_length = 2048,\n",
    ")\n",
    "\n",
    "trainer.train()"
   ]
  },
  {
   "cell_type": "markdown",
   "id": "deeedfdd",
   "metadata": {},
   "source": [
    "### Merge and Save"
   ]
  },
  {
   "cell_type": "code",
   "execution_count": null,
   "id": "fe135d76",
   "metadata": {},
   "outputs": [],
   "source": [
    "from peft import PeftModel\n",
    "from transformers import AutoModelForCausalLM, AutoTokenizer\n",
    "\n",
    "MODEL_PATH = \"/content/drive/MyDrive/Colab Notebooks/FineTuning/finetuned_model/checkpoint-39\"\n",
    "SAVE_PATH = \"/content/drive/MyDrive/Colab Notebooks/FineTuning/cpu_model\"\n",
    "MODEL = \"unsloth/gemma-3-4b-it-unsloth-bnb-4bit\"\n",
    "\n",
    "# Load base model (e.g., gemma-3b or whatever you started from)\n",
    "base_model = AutoModelForCausalLM.from_pretrained(\n",
    "    MODEL,\n",
    "    device_map=\"auto\",\n",
    "    torch_dtype=\"float32\"\n",
    ")\n",
    "\n",
    "# Load adapter on top of base\n",
    "model = PeftModel.from_pretrained(base_model, MODEL_PATH)\n",
    "\n",
    "# Merge weights\n",
    "model = model.merge_and_unload()\n",
    "\n",
    "# Save merged model\n",
    "model.save_pretrained(SAVE_PATH, safe_serialization=True)\n",
    "tokenizer = AutoTokenizer.from_pretrained(MODEL)\n",
    "tokenizer.save_pretrained(SAVE_PATH)"
   ]
  }
 ],
 "metadata": {
  "accelerator": "GPU",
  "colab": {
   "gpuType": "T4",
   "provenance": []
  },
  "kernelspec": {
   "display_name": "Python 3",
   "name": "python3"
  },
  "language_info": {
   "name": "python",
   "version": "3.10"
  }
 },
 "nbformat": 4,
 "nbformat_minor": 5
}
