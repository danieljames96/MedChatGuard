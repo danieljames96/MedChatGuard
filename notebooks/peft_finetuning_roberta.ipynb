{
 "cells": [
  {
   "cell_type": "markdown",
   "id": "IZVqfzF0SwRG",
   "metadata": {
    "id": "IZVqfzF0SwRG"
   },
   "source": [
    "# 🧠 MedChatGuard - PeFT Fine-Tuning in Colab\n",
    "Fine-tune a QA-model (`deepset/roberta-base-squad2`) on synthetic EHR data using QLoRA.\n"
   ]
  },
  {
   "cell_type": "markdown",
   "id": "3c198cd8",
   "metadata": {},
   "source": [
    "### Install Dependencies"
   ]
  },
  {
   "cell_type": "code",
   "execution_count": null,
   "id": "nUpo3n8KSwRI",
   "metadata": {
    "executionInfo": {
     "elapsed": 7426,
     "status": "ok",
     "timestamp": 1744271633588,
     "user": {
      "displayName": "Daniel James",
      "userId": "03259519269035317514"
     },
     "user_tz": -330
    },
    "id": "nUpo3n8KSwRI"
   },
   "outputs": [],
   "source": [
    "!pip install transformers datasets evaluate accelerate"
   ]
  },
  {
   "cell_type": "markdown",
   "id": "1dddea94",
   "metadata": {},
   "source": [
    "### Load SQuAD-style dataset from Drive"
   ]
  },
  {
   "cell_type": "code",
   "execution_count": null,
   "id": "vdatidZuSwRI",
   "metadata": {
    "colab": {
     "base_uri": "https://localhost:8080/",
     "height": 321
    },
    "executionInfo": {
     "elapsed": 4432,
     "status": "error",
     "timestamp": 1744271641071,
     "user": {
      "displayName": "Daniel James",
      "userId": "03259519269035317514"
     },
     "user_tz": -330
    },
    "id": "vdatidZuSwRI",
    "outputId": "2781a6ba-3514-4a8f-d203-e138e2c08256"
   },
   "outputs": [],
   "source": [
    "from google.colab import drive\n",
    "drive.mount('/content/drive')\n",
    "\n",
    "DATA_PATH = \"/content/drive/MyDrive/Colab Notebooks/FineTuning/ehr_squad_format.json\""
   ]
  },
  {
   "cell_type": "code",
   "execution_count": 1,
   "id": "1d94cf84",
   "metadata": {},
   "outputs": [],
   "source": [
    "# Case where not from G-Drive\n",
    "DATA_PATH = \"../data/finetune/ehr_squad_format.json\""
   ]
  },
  {
   "cell_type": "markdown",
   "id": "a1a36909",
   "metadata": {},
   "source": [
    "### Load Dataset and Tokenizer"
   ]
  },
  {
   "cell_type": "code",
   "execution_count": 2,
   "id": "e1f1078d",
   "metadata": {},
   "outputs": [
    {
     "name": "stderr",
     "output_type": "stream",
     "text": [
      "d:\\Development\\Project_Repositories\\MedChatGuard\\.venv\\lib\\site-packages\\tqdm\\auto.py:21: TqdmWarning: IProgress not found. Please update jupyter and ipywidgets. See https://ipywidgets.readthedocs.io/en/stable/user_install.html\n",
      "  from .autonotebook import tqdm as notebook_tqdm\n"
     ]
    }
   ],
   "source": [
    "from datasets import load_dataset\n",
    "from transformers import AutoTokenizer, AutoModelForQuestionAnswering\n",
    "\n",
    "dataset = load_dataset(\"json\", data_files=DATA_PATH, field=\"data\")\n",
    "tokenizer = AutoTokenizer.from_pretrained(\"deepset/roberta-base-squad2\")\n",
    "model = AutoModelForQuestionAnswering.from_pretrained(\"deepset/roberta-base-squad2\")"
   ]
  },
  {
   "cell_type": "markdown",
   "id": "51a685b4",
   "metadata": {},
   "source": [
    "### Preprocessing Function"
   ]
  },
  {
   "cell_type": "code",
   "execution_count": 3,
   "id": "a77a0065",
   "metadata": {},
   "outputs": [
    {
     "data": {
      "text/plain": [
       "Dataset({\n",
       "    features: ['title', 'paragraphs'],\n",
       "    num_rows: 578\n",
       "})"
      ]
     },
     "execution_count": 3,
     "metadata": {},
     "output_type": "execute_result"
    }
   ],
   "source": [
    "dataset[\"train\"]"
   ]
  },
  {
   "cell_type": "code",
   "execution_count": 4,
   "id": "35263597",
   "metadata": {},
   "outputs": [],
   "source": [
    "def preprocess_examples(example):\n",
    "    context = example[\"paragraphs\"][0][\"context\"]\n",
    "    question = example[\"paragraphs\"][0][\"qas\"][0][\"question\"]\n",
    "    answers = example[\"paragraphs\"][0][\"qas\"][0][\"answers\"]\n",
    "    answer = answers[0]  # assuming single answer\n",
    "\n",
    "    # Tokenize with offsets\n",
    "    encoding = tokenizer(\n",
    "        question,\n",
    "        context,\n",
    "        truncation=\"only_second\",\n",
    "        max_length=384,\n",
    "        stride=128,\n",
    "        return_overflowing_tokens=False,\n",
    "        return_offsets_mapping=True,\n",
    "        padding=\"max_length\"\n",
    "    )\n",
    "\n",
    "    # Extract answer char positions\n",
    "    start_char = answer[\"answer_start\"]\n",
    "    end_char = start_char + len(answer[\"text\"])\n",
    "\n",
    "    # Find token span that matches the character span\n",
    "    offsets = encoding[\"offset_mapping\"]\n",
    "    start_pos, end_pos = 0, 0\n",
    "    for idx, (start, end) in enumerate(offsets):\n",
    "        if start <= start_char < end:\n",
    "            start_pos = idx\n",
    "        if start < end_char <= end:\n",
    "            end_pos = idx\n",
    "            break\n",
    "\n",
    "    encoding[\"start_positions\"] = start_pos\n",
    "    encoding[\"end_positions\"] = end_pos\n",
    "    encoding.pop(\"offset_mapping\")\n",
    "\n",
    "    return encoding\n",
    "\n",
    "tokenized = dataset[\"train\"].map(preprocess_examples, remove_columns=dataset[\"train\"].column_names)\n"
   ]
  },
  {
   "cell_type": "markdown",
   "id": "732c61c4",
   "metadata": {},
   "source": [
    "### Load Model and Tokenizer"
   ]
  },
  {
   "cell_type": "code",
   "execution_count": 6,
   "id": "_T3-RxoKSwRJ",
   "metadata": {
    "colab": {
     "base_uri": "https://localhost:8080/"
    },
    "executionInfo": {
     "elapsed": 104793,
     "status": "ok",
     "timestamp": 1744271748421,
     "user": {
      "displayName": "Daniel James",
      "userId": "03259519269035317514"
     },
     "user_tz": -330
    },
    "id": "_T3-RxoKSwRJ",
    "outputId": "8be519b8-4437-4204-cb13-76514c1cd0b2"
   },
   "outputs": [
    {
     "name": "stderr",
     "output_type": "stream",
     "text": [
      "C:\\Users\\danie\\AppData\\Local\\Temp\\ipykernel_85556\\2184822334.py:17: FutureWarning: `tokenizer` is deprecated and will be removed in version 5.0.0 for `Trainer.__init__`. Use `processing_class` instead.\n",
      "  trainer = Trainer(\n"
     ]
    }
   ],
   "source": [
    "from transformers import TrainingArguments, Trainer, default_data_collator\n",
    "\n",
    "training_args = TrainingArguments(\n",
    "    output_dir=\"./roberta-qa-checkpoints\",\n",
    "    # evaluation_strategy=\"epoch\",\n",
    "    save_strategy=\"epoch\",\n",
    "    num_train_epochs=3,\n",
    "    learning_rate=3e-5,\n",
    "    per_device_train_batch_size=8,\n",
    "    per_device_eval_batch_size=8,\n",
    "    weight_decay=0.01,\n",
    "    logging_dir=\"./logs\",\n",
    "    logging_steps=10,\n",
    "    report_to=\"none\"\n",
    ")\n",
    "\n",
    "trainer = Trainer(\n",
    "    model=model,\n",
    "    args=training_args,\n",
    "    train_dataset=tokenized,\n",
    "    # eval_dataset=tokenized[\"validation\"] if \"validation\" in tokenized else None,\n",
    "    tokenizer=tokenizer,\n",
    "    data_collator=default_data_collator\n",
    ")\n"
   ]
  },
  {
   "cell_type": "markdown",
   "id": "e8b30150",
   "metadata": {},
   "source": [
    "### Train"
   ]
  },
  {
   "cell_type": "code",
   "execution_count": 7,
   "id": "Mb4kHu0GSwRJ",
   "metadata": {
    "colab": {
     "base_uri": "https://localhost:8080/",
     "height": 343
    },
    "executionInfo": {
     "elapsed": 1178808,
     "status": "ok",
     "timestamp": 1744272963500,
     "user": {
      "displayName": "Daniel James",
      "userId": "03259519269035317514"
     },
     "user_tz": -330
    },
    "id": "Mb4kHu0GSwRJ",
    "outputId": "f4e226a2-57a1-4fbd-b067-6267b5bd0f73"
   },
   "outputs": [
    {
     "data": {
      "text/html": [
       "\n",
       "    <div>\n",
       "      \n",
       "      <progress value='219' max='219' style='width:300px; height:20px; vertical-align: middle;'></progress>\n",
       "      [219/219 37:16, Epoch 3/3]\n",
       "    </div>\n",
       "    <table border=\"1\" class=\"dataframe\">\n",
       "  <thead>\n",
       " <tr style=\"text-align: left;\">\n",
       "      <th>Step</th>\n",
       "      <th>Training Loss</th>\n",
       "    </tr>\n",
       "  </thead>\n",
       "  <tbody>\n",
       "    <tr>\n",
       "      <td>10</td>\n",
       "      <td>3.118100</td>\n",
       "    </tr>\n",
       "    <tr>\n",
       "      <td>20</td>\n",
       "      <td>2.270700</td>\n",
       "    </tr>\n",
       "    <tr>\n",
       "      <td>30</td>\n",
       "      <td>2.059600</td>\n",
       "    </tr>\n",
       "    <tr>\n",
       "      <td>40</td>\n",
       "      <td>2.135100</td>\n",
       "    </tr>\n",
       "    <tr>\n",
       "      <td>50</td>\n",
       "      <td>2.247300</td>\n",
       "    </tr>\n",
       "    <tr>\n",
       "      <td>60</td>\n",
       "      <td>2.025600</td>\n",
       "    </tr>\n",
       "    <tr>\n",
       "      <td>70</td>\n",
       "      <td>1.898300</td>\n",
       "    </tr>\n",
       "    <tr>\n",
       "      <td>80</td>\n",
       "      <td>1.973800</td>\n",
       "    </tr>\n",
       "    <tr>\n",
       "      <td>90</td>\n",
       "      <td>1.973600</td>\n",
       "    </tr>\n",
       "    <tr>\n",
       "      <td>100</td>\n",
       "      <td>1.965500</td>\n",
       "    </tr>\n",
       "    <tr>\n",
       "      <td>110</td>\n",
       "      <td>1.894300</td>\n",
       "    </tr>\n",
       "    <tr>\n",
       "      <td>120</td>\n",
       "      <td>1.952600</td>\n",
       "    </tr>\n",
       "    <tr>\n",
       "      <td>130</td>\n",
       "      <td>2.118500</td>\n",
       "    </tr>\n",
       "    <tr>\n",
       "      <td>140</td>\n",
       "      <td>1.845500</td>\n",
       "    </tr>\n",
       "    <tr>\n",
       "      <td>150</td>\n",
       "      <td>1.869200</td>\n",
       "    </tr>\n",
       "    <tr>\n",
       "      <td>160</td>\n",
       "      <td>1.894200</td>\n",
       "    </tr>\n",
       "    <tr>\n",
       "      <td>170</td>\n",
       "      <td>1.805300</td>\n",
       "    </tr>\n",
       "    <tr>\n",
       "      <td>180</td>\n",
       "      <td>1.926100</td>\n",
       "    </tr>\n",
       "    <tr>\n",
       "      <td>190</td>\n",
       "      <td>1.800300</td>\n",
       "    </tr>\n",
       "    <tr>\n",
       "      <td>200</td>\n",
       "      <td>1.888200</td>\n",
       "    </tr>\n",
       "    <tr>\n",
       "      <td>210</td>\n",
       "      <td>1.880300</td>\n",
       "    </tr>\n",
       "  </tbody>\n",
       "</table><p>"
      ],
      "text/plain": [
       "<IPython.core.display.HTML object>"
      ]
     },
     "metadata": {},
     "output_type": "display_data"
    },
    {
     "data": {
      "text/plain": [
       "TrainOutput(global_step=219, training_loss=2.0241574239513103, metrics={'train_runtime': 2244.8828, 'train_samples_per_second': 0.772, 'train_steps_per_second': 0.098, 'total_flos': 339816432135168.0, 'train_loss': 2.0241574239513103, 'epoch': 3.0})"
      ]
     },
     "execution_count": 7,
     "metadata": {},
     "output_type": "execute_result"
    }
   ],
   "source": [
    "trainer.train()\n"
   ]
  },
  {
   "cell_type": "markdown",
   "id": "632fc2ad",
   "metadata": {},
   "source": [
    "### Save Model"
   ]
  },
  {
   "cell_type": "code",
   "execution_count": 8,
   "id": "fe135d76",
   "metadata": {},
   "outputs": [
    {
     "data": {
      "text/plain": [
       "('../models/finetuned_model/roberta-base-squad2\\\\tokenizer_config.json',\n",
       " '../models/finetuned_model/roberta-base-squad2\\\\special_tokens_map.json',\n",
       " '../models/finetuned_model/roberta-base-squad2\\\\vocab.json',\n",
       " '../models/finetuned_model/roberta-base-squad2\\\\merges.txt',\n",
       " '../models/finetuned_model/roberta-base-squad2\\\\added_tokens.json',\n",
       " '../models/finetuned_model/roberta-base-squad2\\\\tokenizer.json')"
      ]
     },
     "execution_count": 8,
     "metadata": {},
     "output_type": "execute_result"
    }
   ],
   "source": [
    "# SAVE_PATH = \"/content/drive/MyDrive/Colab Notebooks/FineTuning/roberta_qa_finetuned\"\n",
    "SAVE_PATH = \"../models/finetuned_model/roberta-base-squad2\"\n",
    "\n",
    "trainer.save_model(SAVE_PATH)\n",
    "tokenizer.save_pretrained(SAVE_PATH)"
   ]
  }
 ],
 "metadata": {
  "accelerator": "GPU",
  "colab": {
   "gpuType": "T4",
   "provenance": []
  },
  "kernelspec": {
   "display_name": ".venv",
   "language": "python",
   "name": "python3"
  },
  "language_info": {
   "codemirror_mode": {
    "name": "ipython",
    "version": 3
   },
   "file_extension": ".py",
   "mimetype": "text/x-python",
   "name": "python",
   "nbconvert_exporter": "python",
   "pygments_lexer": "ipython3",
   "version": "3.10.11"
  }
 },
 "nbformat": 4,
 "nbformat_minor": 5
}
