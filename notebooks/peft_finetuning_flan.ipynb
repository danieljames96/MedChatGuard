{
 "cells": [
  {
   "cell_type": "markdown",
   "id": "IZVqfzF0SwRG",
   "metadata": {
    "id": "IZVqfzF0SwRG"
   },
   "source": [
    "# 🧠 MedChatGuard - PeFT Fine-Tuning in Colab\n",
    "Fine-tune a QA-model (`deepset/roberta-base-squad2`) on synthetic EHR data using QLoRA.\n"
   ]
  },
  {
   "cell_type": "markdown",
   "id": "3c198cd8",
   "metadata": {},
   "source": [
    "### Install Dependencies"
   ]
  },
  {
   "cell_type": "code",
   "execution_count": null,
   "id": "nUpo3n8KSwRI",
   "metadata": {
    "executionInfo": {
     "elapsed": 7426,
     "status": "ok",
     "timestamp": 1744271633588,
     "user": {
      "displayName": "Daniel James",
      "userId": "03259519269035317514"
     },
     "user_tz": -330
    },
    "id": "nUpo3n8KSwRI"
   },
   "outputs": [],
   "source": [
    "!pip install transformers datasets evaluate accelerate"
   ]
  },
  {
   "cell_type": "markdown",
   "id": "1dddea94",
   "metadata": {},
   "source": [
    "### Load SQuAD-style dataset from Drive"
   ]
  },
  {
   "cell_type": "code",
   "execution_count": null,
   "id": "vdatidZuSwRI",
   "metadata": {
    "colab": {
     "base_uri": "https://localhost:8080/",
     "height": 321
    },
    "executionInfo": {
     "elapsed": 4432,
     "status": "error",
     "timestamp": 1744271641071,
     "user": {
      "displayName": "Daniel James",
      "userId": "03259519269035317514"
     },
     "user_tz": -330
    },
    "id": "vdatidZuSwRI",
    "outputId": "2781a6ba-3514-4a8f-d203-e138e2c08256"
   },
   "outputs": [],
   "source": [
    "from google.colab import drive\n",
    "drive.mount('/content/drive')\n",
    "\n",
    "DATA_PATH = \"/content/drive/MyDrive/Colab Notebooks/FineTuning/ehr_clean_text.jsonl\""
   ]
  },
  {
   "cell_type": "code",
   "execution_count": 4,
   "id": "1d94cf84",
   "metadata": {},
   "outputs": [],
   "source": [
    "# Case where not from G-Drive\n",
    "DATA_PATH = \"../data/finetune/ehr_clean_text.jsonl\""
   ]
  },
  {
   "cell_type": "markdown",
   "id": "a1a36909",
   "metadata": {},
   "source": [
    "### Load Dataset and Tokenizer"
   ]
  },
  {
   "cell_type": "code",
   "execution_count": 5,
   "id": "e1f1078d",
   "metadata": {},
   "outputs": [
    {
     "name": "stderr",
     "output_type": "stream",
     "text": [
      "Generating train split: 578 examples [00:00, 8075.48 examples/s]\n",
      "Xet Storage is enabled for this repo, but the 'hf_xet' package is not installed. Falling back to regular HTTP download. For better performance, install the package with: `pip install huggingface_hub[hf_xet]` or `pip install hf_xet`\n"
     ]
    }
   ],
   "source": [
    "from datasets import load_dataset\n",
    "from transformers import AutoTokenizer, AutoModelForSeq2SeqLM\n",
    "\n",
    "MODEL_NAME = \"google/flan-t5-small\"\n",
    "dataset = load_dataset(\"json\", data_files=DATA_PATH, split=\"train\")\n",
    "tokenizer = AutoTokenizer.from_pretrained(MODEL_NAME)\n",
    "model = AutoModelForSeq2SeqLM.from_pretrained(MODEL_NAME)"
   ]
  },
  {
   "cell_type": "markdown",
   "id": "51a685b4",
   "metadata": {},
   "source": [
    "### Preprocessing Function"
   ]
  },
  {
   "cell_type": "code",
   "execution_count": 7,
   "id": "a77a0065",
   "metadata": {},
   "outputs": [
    {
     "data": {
      "text/plain": [
       "Dataset({\n",
       "    features: ['instruction', 'input', 'output'],\n",
       "    num_rows: 578\n",
       "})"
      ]
     },
     "execution_count": 7,
     "metadata": {},
     "output_type": "execute_result"
    }
   ],
   "source": [
    "dataset"
   ]
  },
  {
   "cell_type": "code",
   "execution_count": 8,
   "id": "35263597",
   "metadata": {},
   "outputs": [
    {
     "name": "stderr",
     "output_type": "stream",
     "text": [
      "Map: 100%|██████████| 578/578 [00:00<00:00, 789.63 examples/s] \n"
     ]
    }
   ],
   "source": [
    "def preprocess_instruction(example):\n",
    "    # Combine instruction + input\n",
    "    input_text = f\"{example['instruction']}\\n\\n{example['input']}\"\n",
    "    target_text = example[\"output\"]\n",
    "\n",
    "    return tokenizer(\n",
    "        input_text,\n",
    "        text_target=target_text,\n",
    "        padding=\"max_length\",\n",
    "        max_length=512,\n",
    "        truncation=True\n",
    "    )\n",
    "\n",
    "tokenized_dataset = dataset.map(preprocess_instruction, batched=False)\n",
    "tokenized_dataset.set_format(\"torch\")\n"
   ]
  },
  {
   "cell_type": "markdown",
   "id": "732c61c4",
   "metadata": {},
   "source": [
    "### Load Model and Tokenizer"
   ]
  },
  {
   "cell_type": "code",
   "execution_count": 10,
   "id": "_T3-RxoKSwRJ",
   "metadata": {
    "colab": {
     "base_uri": "https://localhost:8080/"
    },
    "executionInfo": {
     "elapsed": 104793,
     "status": "ok",
     "timestamp": 1744271748421,
     "user": {
      "displayName": "Daniel James",
      "userId": "03259519269035317514"
     },
     "user_tz": -330
    },
    "id": "_T3-RxoKSwRJ",
    "outputId": "8be519b8-4437-4204-cb13-76514c1cd0b2"
   },
   "outputs": [
    {
     "name": "stderr",
     "output_type": "stream",
     "text": [
      "C:\\Users\\danie\\AppData\\Local\\Temp\\ipykernel_112144\\3873951804.py:17: FutureWarning: `tokenizer` is deprecated and will be removed in version 5.0.0 for `Trainer.__init__`. Use `processing_class` instead.\n",
      "  trainer = Trainer(\n"
     ]
    }
   ],
   "source": [
    "from transformers import TrainingArguments, Trainer, default_data_collator\n",
    "\n",
    "training_args = TrainingArguments(\n",
    "    output_dir=\"./flan-small-checkpoints\",\n",
    "    # evaluation_strategy=\"epoch\",\n",
    "    save_strategy=\"epoch\",\n",
    "    num_train_epochs=3,\n",
    "    learning_rate=3e-5,\n",
    "    per_device_train_batch_size=8,\n",
    "    per_device_eval_batch_size=8,\n",
    "    weight_decay=0.01,\n",
    "    logging_dir=\"./logs\",\n",
    "    logging_steps=10,\n",
    "    report_to=\"none\"\n",
    ")\n",
    "\n",
    "trainer = Trainer(\n",
    "    model=model,\n",
    "    args=training_args,\n",
    "    train_dataset=tokenized_dataset,\n",
    "    # eval_dataset=tokenized[\"validation\"] if \"validation\" in tokenized else None,\n",
    "    tokenizer=tokenizer,\n",
    "    data_collator=default_data_collator\n",
    ")\n"
   ]
  },
  {
   "cell_type": "markdown",
   "id": "e8b30150",
   "metadata": {},
   "source": [
    "### Train"
   ]
  },
  {
   "cell_type": "code",
   "execution_count": null,
   "id": "Mb4kHu0GSwRJ",
   "metadata": {
    "colab": {
     "base_uri": "https://localhost:8080/",
     "height": 343
    },
    "executionInfo": {
     "elapsed": 1178808,
     "status": "ok",
     "timestamp": 1744272963500,
     "user": {
      "displayName": "Daniel James",
      "userId": "03259519269035317514"
     },
     "user_tz": -330
    },
    "id": "Mb4kHu0GSwRJ",
    "outputId": "f4e226a2-57a1-4fbd-b067-6267b5bd0f73"
   },
   "outputs": [
    {
     "name": "stderr",
     "output_type": "stream",
     "text": [
      "Passing a tuple of `past_key_values` is deprecated and will be removed in Transformers v4.48.0. You should pass an instance of `EncoderDecoderCache` instead, e.g. `past_key_values=EncoderDecoderCache.from_legacy_cache(past_key_values)`.\n"
     ]
    },
    {
     "data": {
      "text/html": [
       "\n",
       "    <div>\n",
       "      \n",
       "      <progress value='9' max='219' style='width:300px; height:20px; vertical-align: middle;'></progress>\n",
       "      [  9/219 06:29 < 3:14:31, 0.02 it/s, Epoch 0.11/3]\n",
       "    </div>\n",
       "    <table border=\"1\" class=\"dataframe\">\n",
       "  <thead>\n",
       " <tr style=\"text-align: left;\">\n",
       "      <th>Step</th>\n",
       "      <th>Training Loss</th>\n",
       "    </tr>\n",
       "  </thead>\n",
       "  <tbody>\n",
       "  </tbody>\n",
       "</table><p>"
      ],
      "text/plain": [
       "<IPython.core.display.HTML object>"
      ]
     },
     "metadata": {},
     "output_type": "display_data"
    }
   ],
   "source": [
    "trainer.train()\n"
   ]
  },
  {
   "cell_type": "markdown",
   "id": "632fc2ad",
   "metadata": {},
   "source": [
    "### Save Model"
   ]
  },
  {
   "cell_type": "code",
   "execution_count": null,
   "id": "fe135d76",
   "metadata": {},
   "outputs": [
    {
     "data": {
      "text/plain": [
       "('../models/finetuned_model/roberta-base-squad2\\\\tokenizer_config.json',\n",
       " '../models/finetuned_model/roberta-base-squad2\\\\special_tokens_map.json',\n",
       " '../models/finetuned_model/roberta-base-squad2\\\\vocab.json',\n",
       " '../models/finetuned_model/roberta-base-squad2\\\\merges.txt',\n",
       " '../models/finetuned_model/roberta-base-squad2\\\\added_tokens.json',\n",
       " '../models/finetuned_model/roberta-base-squad2\\\\tokenizer.json')"
      ]
     },
     "execution_count": 8,
     "metadata": {},
     "output_type": "execute_result"
    }
   ],
   "source": [
    "# SAVE_PATH = \"/content/drive/MyDrive/Colab Notebooks/FineTuning/roberta_qa_finetuned\"\n",
    "SAVE_PATH = \"../models/finetuned_model/flan-t5-small-finetuned\"\n",
    "\n",
    "trainer.save_model(SAVE_PATH)\n",
    "tokenizer.save_pretrained(SAVE_PATH)"
   ]
  }
 ],
 "metadata": {
  "accelerator": "GPU",
  "colab": {
   "gpuType": "T4",
   "provenance": []
  },
  "kernelspec": {
   "display_name": ".venv",
   "language": "python",
   "name": "python3"
  },
  "language_info": {
   "codemirror_mode": {
    "name": "ipython",
    "version": 3
   },
   "file_extension": ".py",
   "mimetype": "text/x-python",
   "name": "python",
   "nbconvert_exporter": "python",
   "pygments_lexer": "ipython3",
   "version": "3.10.11"
  }
 },
 "nbformat": 4,
 "nbformat_minor": 5
}
